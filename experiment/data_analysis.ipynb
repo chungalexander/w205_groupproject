{
 "cells": [
  {
   "cell_type": "code",
   "execution_count": 2,
   "metadata": {
    "collapsed": true
   },
   "outputs": [],
   "source": [
    "#import libraries we might use\n",
    "\n",
    "import pandas as pd \n",
    "import numpy as np \n",
    "import matplotlib.pyplot as plt"
   ]
  },
  {
   "cell_type": "code",
   "execution_count": 13,
   "metadata": {
    "collapsed": false
   },
   "outputs": [
    {
     "name": "stderr",
     "output_type": "stream",
     "text": [
      "/Users/alexanderchung/anaconda/lib/python3.6/site-packages/IPython/core/interactiveshell.py:2717: DtypeWarning: Columns (10) have mixed types. Specify dtype option on import or set low_memory=False.\n",
      "  interactivity=interactivity, compiler=compiler, result=result)\n"
     ]
    }
   ],
   "source": [
    "#read data with pandas and turn into dataframe\n",
    "\n",
    "movies = pd.read_csv('./movies_metadata.csv')\n",
    "\n",
    "movies = pd.DataFrame(movies)"
   ]
  },
  {
   "cell_type": "code",
   "execution_count": 11,
   "metadata": {
    "collapsed": false
   },
   "outputs": [
    {
     "data": {
      "text/plain": [
       "Index(['adult', 'belongs_to_collection', 'budget', 'genres', 'homepage', 'id',\n",
       "       'imdb_id', 'original_language', 'original_title', 'overview',\n",
       "       'popularity', 'poster_path', 'production_companies',\n",
       "       'production_countries', 'release_date', 'revenue', 'runtime',\n",
       "       'spoken_languages', 'status', 'tagline', 'title', 'video',\n",
       "       'vote_average', 'vote_count'],\n",
       "      dtype='object')"
      ]
     },
     "execution_count": 11,
     "metadata": {},
     "output_type": "execute_result"
    }
   ],
   "source": [
    "#take a look at the columns in the dataframe\n",
    "\n",
    "movies.columns"
   ]
  },
  {
   "cell_type": "code",
   "execution_count": 16,
   "metadata": {
    "collapsed": false,
    "scrolled": true
   },
   "outputs": [
    {
     "data": {
      "text/html": [
       "<div>\n",
       "<table border=\"1\" class=\"dataframe\">\n",
       "  <thead>\n",
       "    <tr style=\"text-align: right;\">\n",
       "      <th></th>\n",
       "      <th>adult</th>\n",
       "      <th>belongs_to_collection</th>\n",
       "      <th>budget</th>\n",
       "      <th>genres</th>\n",
       "      <th>homepage</th>\n",
       "      <th>id</th>\n",
       "      <th>imdb_id</th>\n",
       "      <th>original_language</th>\n",
       "      <th>original_title</th>\n",
       "      <th>overview</th>\n",
       "      <th>...</th>\n",
       "      <th>release_date</th>\n",
       "      <th>revenue</th>\n",
       "      <th>runtime</th>\n",
       "      <th>spoken_languages</th>\n",
       "      <th>status</th>\n",
       "      <th>tagline</th>\n",
       "      <th>title</th>\n",
       "      <th>video</th>\n",
       "      <th>vote_average</th>\n",
       "      <th>vote_count</th>\n",
       "    </tr>\n",
       "  </thead>\n",
       "  <tbody>\n",
       "    <tr>\n",
       "      <th>0</th>\n",
       "      <td>False</td>\n",
       "      <td>{'id': 10194, 'name': 'Toy Story Collection', ...</td>\n",
       "      <td>30000000</td>\n",
       "      <td>[{'id': 16, 'name': 'Animation'}, {'id': 35, '...</td>\n",
       "      <td>http://toystory.disney.com/toy-story</td>\n",
       "      <td>862</td>\n",
       "      <td>tt0114709</td>\n",
       "      <td>en</td>\n",
       "      <td>Toy Story</td>\n",
       "      <td>Led by Woody, Andy's toys live happily in his ...</td>\n",
       "      <td>...</td>\n",
       "      <td>1995-10-30</td>\n",
       "      <td>373554033.0</td>\n",
       "      <td>81.0</td>\n",
       "      <td>[{'iso_639_1': 'en', 'name': 'English'}]</td>\n",
       "      <td>Released</td>\n",
       "      <td>NaN</td>\n",
       "      <td>Toy Story</td>\n",
       "      <td>False</td>\n",
       "      <td>7.7</td>\n",
       "      <td>5415.0</td>\n",
       "    </tr>\n",
       "    <tr>\n",
       "      <th>1</th>\n",
       "      <td>False</td>\n",
       "      <td>NaN</td>\n",
       "      <td>65000000</td>\n",
       "      <td>[{'id': 12, 'name': 'Adventure'}, {'id': 14, '...</td>\n",
       "      <td>NaN</td>\n",
       "      <td>8844</td>\n",
       "      <td>tt0113497</td>\n",
       "      <td>en</td>\n",
       "      <td>Jumanji</td>\n",
       "      <td>When siblings Judy and Peter discover an encha...</td>\n",
       "      <td>...</td>\n",
       "      <td>1995-12-15</td>\n",
       "      <td>262797249.0</td>\n",
       "      <td>104.0</td>\n",
       "      <td>[{'iso_639_1': 'en', 'name': 'English'}, {'iso...</td>\n",
       "      <td>Released</td>\n",
       "      <td>Roll the dice and unleash the excitement!</td>\n",
       "      <td>Jumanji</td>\n",
       "      <td>False</td>\n",
       "      <td>6.9</td>\n",
       "      <td>2413.0</td>\n",
       "    </tr>\n",
       "  </tbody>\n",
       "</table>\n",
       "<p>2 rows × 24 columns</p>\n",
       "</div>"
      ],
      "text/plain": [
       "   adult                              belongs_to_collection    budget  \\\n",
       "0  False  {'id': 10194, 'name': 'Toy Story Collection', ...  30000000   \n",
       "1  False                                                NaN  65000000   \n",
       "\n",
       "                                              genres  \\\n",
       "0  [{'id': 16, 'name': 'Animation'}, {'id': 35, '...   \n",
       "1  [{'id': 12, 'name': 'Adventure'}, {'id': 14, '...   \n",
       "\n",
       "                               homepage    id    imdb_id original_language  \\\n",
       "0  http://toystory.disney.com/toy-story   862  tt0114709                en   \n",
       "1                                   NaN  8844  tt0113497                en   \n",
       "\n",
       "  original_title                                           overview  \\\n",
       "0      Toy Story  Led by Woody, Andy's toys live happily in his ...   \n",
       "1        Jumanji  When siblings Judy and Peter discover an encha...   \n",
       "\n",
       "     ...     release_date      revenue runtime  \\\n",
       "0    ...       1995-10-30  373554033.0    81.0   \n",
       "1    ...       1995-12-15  262797249.0   104.0   \n",
       "\n",
       "                                    spoken_languages    status  \\\n",
       "0           [{'iso_639_1': 'en', 'name': 'English'}]  Released   \n",
       "1  [{'iso_639_1': 'en', 'name': 'English'}, {'iso...  Released   \n",
       "\n",
       "                                     tagline      title  video vote_average  \\\n",
       "0                                        NaN  Toy Story  False          7.7   \n",
       "1  Roll the dice and unleash the excitement!    Jumanji  False          6.9   \n",
       "\n",
       "  vote_count  \n",
       "0     5415.0  \n",
       "1     2413.0  \n",
       "\n",
       "[2 rows x 24 columns]"
      ]
     },
     "execution_count": 16,
     "metadata": {},
     "output_type": "execute_result"
    }
   ],
   "source": [
    "#take a look at the first two rows\n",
    "\n",
    "movies.head(2)"
   ]
  },
  {
   "cell_type": "code",
   "execution_count": 36,
   "metadata": {
    "collapsed": true
   },
   "outputs": [],
   "source": [
    "#create new dataframe (moveis_metadata) with only the columns we care about\n",
    "\n",
    "movies_metadata = movies[['id','title','budget','revenue']].sort_values('revenue', axis=0, ascending=False)\n",
    "\n",
    "#only look at the top 100 movies by revenue -- what we are most interested in\n",
    "\n",
    "movies_metadata = movies_metadata.head(100)"
   ]
  },
  {
   "cell_type": "code",
   "execution_count": 38,
   "metadata": {
    "collapsed": false
   },
   "outputs": [],
   "source": [
    "#load the credits data with actors in movies (only load part of the data set)\n",
    "\n",
    "credits = pd.read_csv('./credits.csv', usecols=['id','cast'])\n",
    "\n",
    "credits = pd.DataFrame(credits)"
   ]
  },
  {
   "cell_type": "code",
   "execution_count": 115,
   "metadata": {
    "collapsed": false
   },
   "outputs": [
    {
     "data": {
      "text/html": [
       "<div>\n",
       "<table border=\"1\" class=\"dataframe\">\n",
       "  <thead>\n",
       "    <tr style=\"text-align: right;\">\n",
       "      <th></th>\n",
       "      <th>cast</th>\n",
       "      <th>id</th>\n",
       "    </tr>\n",
       "  </thead>\n",
       "  <tbody>\n",
       "    <tr>\n",
       "      <th>0</th>\n",
       "      <td>[{'cast_id': 14, 'character': 'Woody (voice)',...</td>\n",
       "      <td>862</td>\n",
       "    </tr>\n",
       "    <tr>\n",
       "      <th>1</th>\n",
       "      <td>[{'cast_id': 1, 'character': 'Alan Parrish', '...</td>\n",
       "      <td>8844</td>\n",
       "    </tr>\n",
       "    <tr>\n",
       "      <th>2</th>\n",
       "      <td>[{'cast_id': 2, 'character': 'Max Goldman', 'c...</td>\n",
       "      <td>15602</td>\n",
       "    </tr>\n",
       "    <tr>\n",
       "      <th>3</th>\n",
       "      <td>[{'cast_id': 1, 'character': \"Savannah 'Vannah...</td>\n",
       "      <td>31357</td>\n",
       "    </tr>\n",
       "    <tr>\n",
       "      <th>4</th>\n",
       "      <td>[{'cast_id': 1, 'character': 'George Banks', '...</td>\n",
       "      <td>11862</td>\n",
       "    </tr>\n",
       "  </tbody>\n",
       "</table>\n",
       "</div>"
      ],
      "text/plain": [
       "                                                cast     id\n",
       "0  [{'cast_id': 14, 'character': 'Woody (voice)',...    862\n",
       "1  [{'cast_id': 1, 'character': 'Alan Parrish', '...   8844\n",
       "2  [{'cast_id': 2, 'character': 'Max Goldman', 'c...  15602\n",
       "3  [{'cast_id': 1, 'character': \"Savannah 'Vannah...  31357\n",
       "4  [{'cast_id': 1, 'character': 'George Banks', '...  11862"
      ]
     },
     "execution_count": 115,
     "metadata": {},
     "output_type": "execute_result"
    }
   ],
   "source": [
    "#preview the data\n",
    "#data cleansing issue here with json inside a cell\n",
    "\n",
    "credits.head(5)"
   ]
  },
  {
   "cell_type": "code",
   "execution_count": 116,
   "metadata": {
    "collapsed": false
   },
   "outputs": [
    {
     "data": {
      "text/plain": [
       "\"[{'cast_id': 14, 'character': 'Woody (voice)', 'credit_id': '52fe4284c3a36847f8024f95', 'gender': 2, 'id': 31, 'name': 'Tom Hanks', 'order': 0, 'profile_path': '/pQFoyx7rp09CJTAb932F2g8Nlho.jpg'}, {'cast_id': 15, 'character': 'Buzz Lightyear (voice)', 'credit_id': '52fe4284c3a36847f8024f99', 'gender': 2, 'id': 12898, 'name': 'Tim Allen', 'order': 1, 'profile_path': '/uX2xVf6pMmPepxnvFWyBtjexzgY.jpg'}, {'cast_id': 16, 'character': 'Mr. Potato Head (voice)', 'credit_id': '52fe4284c3a36847f8024f9d', 'gender': 2, 'id': 7167, 'name': 'Don Rickles', 'order': 2, 'profile_path': '/h5BcaDMPRVLHLDzbQavec4xfSdt.jpg'}, {'cast_id': 17, 'character': 'Slinky Dog (voice)', 'credit_id': '52fe4284c3a36847f8024fa1', 'gender': 2, 'id': 12899, 'name': 'Jim Varney', 'order': 3, 'profile_path': '/eIo2jVVXYgjDtaHoF19Ll9vtW7h.jpg'}, {'cast_id': 18, 'character': 'Rex (voice)', 'credit_id': '52fe4284c3a36847f8024fa5', 'gender': 2, 'id': 12900, 'name': 'Wallace Shawn', 'order': 4, 'profile_path': '/oGE6JqPP2xH4tNORKNqxbNPYi7u.jpg'}, {'cast_id': 19, 'character': 'Hamm (voice)', 'credit_id': '52fe4284c3a36847f8024fa9', 'gender': 2, 'id': 7907, 'name': 'John Ratzenberger', 'order': 5, 'profile_path': '/yGechiKWL6TJDfVE2KPSJYqdMsY.jpg'}, {'cast_id': 20, 'character': 'Bo Peep (voice)', 'credit_id': '52fe4284c3a36847f8024fad', 'gender': 1, 'id': 8873, 'name': 'Annie Potts', 'order': 6, 'profile_path': '/eryXT84RL41jHSJcMy4kS3u9y6w.jpg'}, {'cast_id': 26, 'character': 'Andy (voice)', 'credit_id': '52fe4284c3a36847f8024fc1', 'gender': 0, 'id': 1116442, 'name': 'John Morris', 'order': 7, 'profile_path': '/vYGyvK4LzeaUCoNSHtsuqJUY15M.jpg'}, {'cast_id': 22, 'character': 'Sid (voice)', 'credit_id': '52fe4284c3a36847f8024fb1', 'gender': 2, 'id': 12901, 'name': 'Erik von Detten', 'order': 8, 'profile_path': '/twnF1ZaJ1FUNUuo6xLXwcxjayBE.jpg'}, {'cast_id': 23, 'character': 'Mrs. Davis (voice)', 'credit_id': '52fe4284c3a36847f8024fb5', 'gender': 1, 'id': 12133, 'name': 'Laurie Metcalf', 'order': 9, 'profile_path': '/unMMIT60eoBM2sN2nyR7EZ2BvvD.jpg'}, {'cast_id': 24, 'character': 'Sergeant (voice)', 'credit_id': '52fe4284c3a36847f8024fb9', 'gender': 2, 'id': 8655, 'name': 'R. Lee Ermey', 'order': 10, 'profile_path': '/r8GBqFBjypLUP9VVqDqfZ7wYbSs.jpg'}, {'cast_id': 25, 'character': 'Hannah (voice)', 'credit_id': '52fe4284c3a36847f8024fbd', 'gender': 1, 'id': 12903, 'name': 'Sarah Freeman', 'order': 11, 'profile_path': None}, {'cast_id': 27, 'character': 'TV Announcer (voice)', 'credit_id': '52fe4284c3a36847f8024fc5', 'gender': 2, 'id': 37221, 'name': 'Penn Jillette', 'order': 12, 'profile_path': '/zmAaXUdx12NRsssgHbk1T31j2x9.jpg'}]\""
      ]
     },
     "execution_count": 116,
     "metadata": {},
     "output_type": "execute_result"
    }
   ],
   "source": [
    "#create test case for first row\n",
    "\n",
    "messy = credits['cast'][0]\n",
    "\n",
    "messy"
   ]
  },
  {
   "cell_type": "code",
   "execution_count": 117,
   "metadata": {
    "collapsed": false
   },
   "outputs": [
    {
     "data": {
      "text/plain": [
       "'{\"cast_id\": 14, \"character\": \"Woody (voice)\", \"credit_id\": \"52fe4284c3a36847f8024f95\", \"gender\": 2, \"id\": 31, \"name\": \"Tom Hanks\", \"order\": 0, \"profile_path\": \"/pQFoyx7rp09CJTAb932F2g8Nlho.jpg\"}, {\"cast_id\": 15, \"character\": \"Buzz Lightyear (voice)\", \"credit_id\": \"52fe4284c3a36847f8024f99\", \"gender\": 2, \"id\": 12898, \"name\": \"Tim Allen\", \"order\": 1, \"profile_path\": \"/uX2xVf6pMmPepxnvFWyBtjexzgY.jpg\"}, {\"cast_id\": 16, \"character\": \"Mr. Potato Head (voice)\", \"credit_id\": \"52fe4284c3a36847f8024f9d\", \"gender\": 2, \"id\": 7167, \"name\": \"Don Rickles\", \"order\": 2, \"profile_path\": \"/h5BcaDMPRVLHLDzbQavec4xfSdt.jpg\"}, {\"cast_id\": 17, \"character\": \"Slinky Dog (voice)\", \"credit_id\": \"52fe4284c3a36847f8024fa1\", \"gender\": 2, \"id\": 12899, \"name\": \"Jim Varney\", \"order\": 3, \"profile_path\": \"/eIo2jVVXYgjDtaHoF19Ll9vtW7h.jpg\"}, {\"cast_id\": 18, \"character\": \"Rex (voice)\", \"credit_id\": \"52fe4284c3a36847f8024fa5\", \"gender\": 2, \"id\": 12900, \"name\": \"Wallace Shawn\", \"order\": 4, \"profile_path\": \"/oGE6JqPP2xH4tNORKNqxbNPYi7u.jpg\"}, {\"cast_id\": 19, \"character\": \"Hamm (voice)\", \"credit_id\": \"52fe4284c3a36847f8024fa9\", \"gender\": 2, \"id\": 7907, \"name\": \"John Ratzenberger\", \"order\": 5, \"profile_path\": \"/yGechiKWL6TJDfVE2KPSJYqdMsY.jpg\"}, {\"cast_id\": 20, \"character\": \"Bo Peep (voice)\", \"credit_id\": \"52fe4284c3a36847f8024fad\", \"gender\": 1, \"id\": 8873, \"name\": \"Annie Potts\", \"order\": 6, \"profile_path\": \"/eryXT84RL41jHSJcMy4kS3u9y6w.jpg\"}, {\"cast_id\": 26, \"character\": \"Andy (voice)\", \"credit_id\": \"52fe4284c3a36847f8024fc1\", \"gender\": 0, \"id\": 1116442, \"name\": \"John Morris\", \"order\": 7, \"profile_path\": \"/vYGyvK4LzeaUCoNSHtsuqJUY15M.jpg\"}, {\"cast_id\": 22, \"character\": \"Sid (voice)\", \"credit_id\": \"52fe4284c3a36847f8024fb1\", \"gender\": 2, \"id\": 12901, \"name\": \"Erik von Detten\", \"order\": 8, \"profile_path\": \"/twnF1ZaJ1FUNUuo6xLXwcxjayBE.jpg\"}, {\"cast_id\": 23, \"character\": \"Mrs. Davis (voice)\", \"credit_id\": \"52fe4284c3a36847f8024fb5\", \"gender\": 1, \"id\": 12133, \"name\": \"Laurie Metcalf\", \"order\": 9, \"profile_path\": \"/unMMIT60eoBM2sN2nyR7EZ2BvvD.jpg\"}, {\"cast_id\": 24, \"character\": \"Sergeant (voice)\", \"credit_id\": \"52fe4284c3a36847f8024fb9\", \"gender\": 2, \"id\": 8655, \"name\": \"R. Lee Ermey\", \"order\": 10, \"profile_path\": \"/r8GBqFBjypLUP9VVqDqfZ7wYbSs.jpg\"}, {\"cast_id\": 25, \"character\": \"Hannah (voice)\", \"credit_id\": \"52fe4284c3a36847f8024fbd\", \"gender\": 1, \"id\": 12903, \"name\": \"Sarah Freeman\", \"order\": 11, \"profile_path\": None}, {\"cast_id\": 27, \"character\": \"TV Announcer (voice)\", \"credit_id\": \"52fe4284c3a36847f8024fc5\", \"gender\": 2, \"id\": 37221, \"name\": \"Penn Jillette\", \"order\": 12, \"profile_path\": \"/zmAaXUdx12NRsssgHbk1T31j2x9.jpg\"}'"
      ]
     },
     "execution_count": 117,
     "metadata": {},
     "output_type": "execute_result"
    }
   ],
   "source": [
    "#to turn into json, we need double quotes and to remove the square brackets\n",
    "\n",
    "messy = messy.replace(\"'\", '\"')\n",
    "\n",
    "badchars = '[]'\n",
    "\n",
    "messy = messy.strip(badchars)\n",
    "\n",
    "messy"
   ]
  },
  {
   "cell_type": "code",
   "execution_count": 118,
   "metadata": {
    "collapsed": false
   },
   "outputs": [
    {
     "data": {
      "text/plain": [
       "['{\"cast_id\": 14, \"character\": \"Woody (voice)\", \"credit_id\": \"52fe4284c3a36847f8024f95\", \"gender\": 2, \"id\": 31, \"name\": \"Tom Hanks\", \"order\": 0, \"profile_path\": \"/pQFoyx7rp09CJTAb932F2g8Nlho.jpg\"}',\n",
       " '{\"cast_id\": 15, \"character\": \"Buzz Lightyear (voice)\", \"credit_id\": \"52fe4284c3a36847f8024f99\", \"gender\": 2, \"id\": 12898, \"name\": \"Tim Allen\", \"order\": 1, \"profile_path\": \"/uX2xVf6pMmPepxnvFWyBtjexzgY.jpg\"}',\n",
       " '{\"cast_id\": 16, \"character\": \"Mr. Potato Head (voice)\", \"credit_id\": \"52fe4284c3a36847f8024f9d\", \"gender\": 2, \"id\": 7167, \"name\": \"Don Rickles\", \"order\": 2, \"profile_path\": \"/h5BcaDMPRVLHLDzbQavec4xfSdt.jpg\"}',\n",
       " '{\"cast_id\": 17, \"character\": \"Slinky Dog (voice)\", \"credit_id\": \"52fe4284c3a36847f8024fa1\", \"gender\": 2, \"id\": 12899, \"name\": \"Jim Varney\", \"order\": 3, \"profile_path\": \"/eIo2jVVXYgjDtaHoF19Ll9vtW7h.jpg\"}',\n",
       " '{\"cast_id\": 18, \"character\": \"Rex (voice)\", \"credit_id\": \"52fe4284c3a36847f8024fa5\", \"gender\": 2, \"id\": 12900, \"name\": \"Wallace Shawn\", \"order\": 4, \"profile_path\": \"/oGE6JqPP2xH4tNORKNqxbNPYi7u.jpg\"}',\n",
       " '{\"cast_id\": 19, \"character\": \"Hamm (voice)\", \"credit_id\": \"52fe4284c3a36847f8024fa9\", \"gender\": 2, \"id\": 7907, \"name\": \"John Ratzenberger\", \"order\": 5, \"profile_path\": \"/yGechiKWL6TJDfVE2KPSJYqdMsY.jpg\"}',\n",
       " '{\"cast_id\": 20, \"character\": \"Bo Peep (voice)\", \"credit_id\": \"52fe4284c3a36847f8024fad\", \"gender\": 1, \"id\": 8873, \"name\": \"Annie Potts\", \"order\": 6, \"profile_path\": \"/eryXT84RL41jHSJcMy4kS3u9y6w.jpg\"}',\n",
       " '{\"cast_id\": 26, \"character\": \"Andy (voice)\", \"credit_id\": \"52fe4284c3a36847f8024fc1\", \"gender\": 0, \"id\": 1116442, \"name\": \"John Morris\", \"order\": 7, \"profile_path\": \"/vYGyvK4LzeaUCoNSHtsuqJUY15M.jpg\"}',\n",
       " '{\"cast_id\": 22, \"character\": \"Sid (voice)\", \"credit_id\": \"52fe4284c3a36847f8024fb1\", \"gender\": 2, \"id\": 12901, \"name\": \"Erik von Detten\", \"order\": 8, \"profile_path\": \"/twnF1ZaJ1FUNUuo6xLXwcxjayBE.jpg\"}',\n",
       " '{\"cast_id\": 23, \"character\": \"Mrs. Davis (voice)\", \"credit_id\": \"52fe4284c3a36847f8024fb5\", \"gender\": 1, \"id\": 12133, \"name\": \"Laurie Metcalf\", \"order\": 9, \"profile_path\": \"/unMMIT60eoBM2sN2nyR7EZ2BvvD.jpg\"}',\n",
       " '{\"cast_id\": 24, \"character\": \"Sergeant (voice)\", \"credit_id\": \"52fe4284c3a36847f8024fb9\", \"gender\": 2, \"id\": 8655, \"name\": \"R. Lee Ermey\", \"order\": 10, \"profile_path\": \"/r8GBqFBjypLUP9VVqDqfZ7wYbSs.jpg\"}',\n",
       " '{\"cast_id\": 25, \"character\": \"Hannah (voice)\", \"credit_id\": \"52fe4284c3a36847f8024fbd\", \"gender\": 1, \"id\": 12903, \"name\": \"Sarah Freeman\", \"order\": 11, \"profile_path\": None}',\n",
       " '{\"cast_id\": 27, \"character\": \"TV Announcer (voice)\", \"credit_id\": \"52fe4284c3a36847f8024fc5\", \"gender\": 2, \"id\": 37221, \"name\": \"Penn Jillette\", \"order\": 12, \"profile_path\": \"/zmAaXUdx12NRsssgHbk1T31j2x9.jpg\"}']"
      ]
     },
     "execution_count": 118,
     "metadata": {},
     "output_type": "execute_result"
    }
   ],
   "source": [
    "#not elegant but use .replace and .findall to break up multiple json objects into list\n",
    "\n",
    "import re\n",
    "\n",
    "messy = messy.replace(\", {\", \"{\")\n",
    "\n",
    "messy = re.findall('[^}]+}', messy)\n",
    "\n",
    "messy"
   ]
  },
  {
   "cell_type": "code",
   "execution_count": 123,
   "metadata": {
    "collapsed": false
   },
   "outputs": [
    {
     "data": {
      "text/plain": [
       "'{\"cast_id\": 14, \"character\": \"Woody (voice)\", \"credit_id\": \"52fe4284c3a36847f8024f95\", \"gender\": 2, \"id\": 31, \"name\": \"Tom Hanks\", \"order\": 0, \"profile_path\": \"/pQFoyx7rp09CJTAb932F2g8Nlho.jpg\"}'"
      ]
     },
     "execution_count": 123,
     "metadata": {},
     "output_type": "execute_result"
    }
   ],
   "source": [
    "#see if this worked by checking first item\n",
    "\n",
    "messy[0]"
   ]
  },
  {
   "cell_type": "code",
   "execution_count": 124,
   "metadata": {
    "collapsed": false
   },
   "outputs": [
    {
     "name": "stdout",
     "output_type": "stream",
     "text": [
      "Tom Hanks\n"
     ]
    }
   ],
   "source": [
    "#now we can use json.loads on each list item. eg:\n",
    "\n",
    "import json\n",
    "\n",
    "messy_json = json.loads(messy[0])\n",
    "\n",
    "print(messy_json['name'])"
   ]
  },
  {
   "cell_type": "code",
   "execution_count": 146,
   "metadata": {
    "collapsed": false
   },
   "outputs": [
    {
     "ename": "JSONDecodeError",
     "evalue": "Expecting value: line 1 column 169 (char 168)",
     "output_type": "error",
     "traceback": [
      "\u001b[0;31m---------------------------------------------------------------------------\u001b[0m",
      "\u001b[0;31mJSONDecodeError\u001b[0m                           Traceback (most recent call last)",
      "\u001b[0;32m<ipython-input-146-f32cd043e4f3>\u001b[0m in \u001b[0;36m<module>\u001b[0;34m()\u001b[0m\n\u001b[1;32m      3\u001b[0m \u001b[0;34m\u001b[0m\u001b[0m\n\u001b[1;32m      4\u001b[0m \u001b[0;32mwhile\u001b[0m \u001b[0mn\u001b[0m \u001b[0;34m<\u001b[0m \u001b[0mlen\u001b[0m\u001b[0;34m(\u001b[0m\u001b[0mmessy\u001b[0m\u001b[0;34m)\u001b[0m\u001b[0;34m:\u001b[0m\u001b[0;34m\u001b[0m\u001b[0m\n\u001b[0;32m----> 5\u001b[0;31m     \u001b[0mtemp\u001b[0m \u001b[0;34m=\u001b[0m \u001b[0mjson\u001b[0m\u001b[0;34m.\u001b[0m\u001b[0mloads\u001b[0m\u001b[0;34m(\u001b[0m\u001b[0mmessy\u001b[0m\u001b[0;34m[\u001b[0m\u001b[0mn\u001b[0m\u001b[0;34m]\u001b[0m\u001b[0;34m)\u001b[0m\u001b[0;34m\u001b[0m\u001b[0m\n\u001b[0m\u001b[1;32m      6\u001b[0m     \u001b[0mtemp_name\u001b[0m \u001b[0;34m=\u001b[0m \u001b[0;34m(\u001b[0m\u001b[0mtemp\u001b[0m\u001b[0;34m[\u001b[0m\u001b[0;34m'name'\u001b[0m\u001b[0;34m]\u001b[0m\u001b[0;34m)\u001b[0m\u001b[0;34m\u001b[0m\u001b[0m\n\u001b[1;32m      7\u001b[0m     \u001b[0mtemp_name\u001b[0m \u001b[0;34m=\u001b[0m \u001b[0mjson\u001b[0m\u001b[0;34m.\u001b[0m\u001b[0mdumps\u001b[0m\u001b[0;34m(\u001b[0m\u001b[0mtemp_name\u001b[0m\u001b[0;34m)\u001b[0m\u001b[0;34m\u001b[0m\u001b[0m\n",
      "\u001b[0;32m/Users/alexanderchung/anaconda/lib/python3.6/json/__init__.py\u001b[0m in \u001b[0;36mloads\u001b[0;34m(s, encoding, cls, object_hook, parse_float, parse_int, parse_constant, object_pairs_hook, **kw)\u001b[0m\n\u001b[1;32m    352\u001b[0m             \u001b[0mparse_int\u001b[0m \u001b[0;32mis\u001b[0m \u001b[0;32mNone\u001b[0m \u001b[0;32mand\u001b[0m \u001b[0mparse_float\u001b[0m \u001b[0;32mis\u001b[0m \u001b[0;32mNone\u001b[0m \u001b[0;32mand\u001b[0m\u001b[0;34m\u001b[0m\u001b[0m\n\u001b[1;32m    353\u001b[0m             parse_constant is None and object_pairs_hook is None and not kw):\n\u001b[0;32m--> 354\u001b[0;31m         \u001b[0;32mreturn\u001b[0m \u001b[0m_default_decoder\u001b[0m\u001b[0;34m.\u001b[0m\u001b[0mdecode\u001b[0m\u001b[0;34m(\u001b[0m\u001b[0ms\u001b[0m\u001b[0;34m)\u001b[0m\u001b[0;34m\u001b[0m\u001b[0m\n\u001b[0m\u001b[1;32m    355\u001b[0m     \u001b[0;32mif\u001b[0m \u001b[0mcls\u001b[0m \u001b[0;32mis\u001b[0m \u001b[0;32mNone\u001b[0m\u001b[0;34m:\u001b[0m\u001b[0;34m\u001b[0m\u001b[0m\n\u001b[1;32m    356\u001b[0m         \u001b[0mcls\u001b[0m \u001b[0;34m=\u001b[0m \u001b[0mJSONDecoder\u001b[0m\u001b[0;34m\u001b[0m\u001b[0m\n",
      "\u001b[0;32m/Users/alexanderchung/anaconda/lib/python3.6/json/decoder.py\u001b[0m in \u001b[0;36mdecode\u001b[0;34m(self, s, _w)\u001b[0m\n\u001b[1;32m    337\u001b[0m \u001b[0;34m\u001b[0m\u001b[0m\n\u001b[1;32m    338\u001b[0m         \"\"\"\n\u001b[0;32m--> 339\u001b[0;31m         \u001b[0mobj\u001b[0m\u001b[0;34m,\u001b[0m \u001b[0mend\u001b[0m \u001b[0;34m=\u001b[0m \u001b[0mself\u001b[0m\u001b[0;34m.\u001b[0m\u001b[0mraw_decode\u001b[0m\u001b[0;34m(\u001b[0m\u001b[0ms\u001b[0m\u001b[0;34m,\u001b[0m \u001b[0midx\u001b[0m\u001b[0;34m=\u001b[0m\u001b[0m_w\u001b[0m\u001b[0;34m(\u001b[0m\u001b[0ms\u001b[0m\u001b[0;34m,\u001b[0m \u001b[0;36m0\u001b[0m\u001b[0;34m)\u001b[0m\u001b[0;34m.\u001b[0m\u001b[0mend\u001b[0m\u001b[0;34m(\u001b[0m\u001b[0;34m)\u001b[0m\u001b[0;34m)\u001b[0m\u001b[0;34m\u001b[0m\u001b[0m\n\u001b[0m\u001b[1;32m    340\u001b[0m         \u001b[0mend\u001b[0m \u001b[0;34m=\u001b[0m \u001b[0m_w\u001b[0m\u001b[0;34m(\u001b[0m\u001b[0ms\u001b[0m\u001b[0;34m,\u001b[0m \u001b[0mend\u001b[0m\u001b[0;34m)\u001b[0m\u001b[0;34m.\u001b[0m\u001b[0mend\u001b[0m\u001b[0;34m(\u001b[0m\u001b[0;34m)\u001b[0m\u001b[0;34m\u001b[0m\u001b[0m\n\u001b[1;32m    341\u001b[0m         \u001b[0;32mif\u001b[0m \u001b[0mend\u001b[0m \u001b[0;34m!=\u001b[0m \u001b[0mlen\u001b[0m\u001b[0;34m(\u001b[0m\u001b[0ms\u001b[0m\u001b[0;34m)\u001b[0m\u001b[0;34m:\u001b[0m\u001b[0;34m\u001b[0m\u001b[0m\n",
      "\u001b[0;32m/Users/alexanderchung/anaconda/lib/python3.6/json/decoder.py\u001b[0m in \u001b[0;36mraw_decode\u001b[0;34m(self, s, idx)\u001b[0m\n\u001b[1;32m    355\u001b[0m             \u001b[0mobj\u001b[0m\u001b[0;34m,\u001b[0m \u001b[0mend\u001b[0m \u001b[0;34m=\u001b[0m \u001b[0mself\u001b[0m\u001b[0;34m.\u001b[0m\u001b[0mscan_once\u001b[0m\u001b[0;34m(\u001b[0m\u001b[0ms\u001b[0m\u001b[0;34m,\u001b[0m \u001b[0midx\u001b[0m\u001b[0;34m)\u001b[0m\u001b[0;34m\u001b[0m\u001b[0m\n\u001b[1;32m    356\u001b[0m         \u001b[0;32mexcept\u001b[0m \u001b[0mStopIteration\u001b[0m \u001b[0;32mas\u001b[0m \u001b[0merr\u001b[0m\u001b[0;34m:\u001b[0m\u001b[0;34m\u001b[0m\u001b[0m\n\u001b[0;32m--> 357\u001b[0;31m             \u001b[0;32mraise\u001b[0m \u001b[0mJSONDecodeError\u001b[0m\u001b[0;34m(\u001b[0m\u001b[0;34m\"Expecting value\"\u001b[0m\u001b[0;34m,\u001b[0m \u001b[0ms\u001b[0m\u001b[0;34m,\u001b[0m \u001b[0merr\u001b[0m\u001b[0;34m.\u001b[0m\u001b[0mvalue\u001b[0m\u001b[0;34m)\u001b[0m \u001b[0;32mfrom\u001b[0m \u001b[0;32mNone\u001b[0m\u001b[0;34m\u001b[0m\u001b[0m\n\u001b[0m\u001b[1;32m    358\u001b[0m         \u001b[0;32mreturn\u001b[0m \u001b[0mobj\u001b[0m\u001b[0;34m,\u001b[0m \u001b[0mend\u001b[0m\u001b[0;34m\u001b[0m\u001b[0m\n",
      "\u001b[0;31mJSONDecodeError\u001b[0m: Expecting value: line 1 column 169 (char 168)"
     ]
    }
   ],
   "source": [
    "#go through each list item and get the names and append to a list:\n",
    "#some error but still seems to work\n",
    "\n",
    "n = 0\n",
    "listA = []\n",
    "\n",
    "while n < len(messy):\n",
    "    temp = json.loads(messy[n])\n",
    "    temp_name = (temp['name'])\n",
    "    temp_name = json.dumps(temp_name)\n",
    "    listA.append(temp_name)\n",
    "    n += 1"
   ]
  },
  {
   "cell_type": "code",
   "execution_count": 149,
   "metadata": {
    "collapsed": false
   },
   "outputs": [
    {
     "name": "stdout",
     "output_type": "stream",
     "text": [
      "['\"Tom Hanks\"',\n",
      " '\"Tim Allen\"',\n",
      " '\"Don Rickles\"',\n",
      " '\"Jim Varney\"',\n",
      " '\"Wallace Shawn\"',\n",
      " '\"John Ratzenberger\"',\n",
      " '\"Annie Potts\"',\n",
      " '\"John Morris\"',\n",
      " '\"Erik von Detten\"',\n",
      " '\"Laurie Metcalf\"',\n",
      " '\"R. Lee Ermey\"']\n"
     ]
    }
   ],
   "source": [
    "#Print list\n",
    "\n",
    "import pprint \n",
    "\n",
    "pprint.pprint(listA)"
   ]
  }
 ],
 "metadata": {
  "kernelspec": {
   "display_name": "Python 3",
   "language": "python",
   "name": "python3"
  },
  "language_info": {
   "codemirror_mode": {
    "name": "ipython",
    "version": 3
   },
   "file_extension": ".py",
   "mimetype": "text/x-python",
   "name": "python",
   "nbconvert_exporter": "python",
   "pygments_lexer": "ipython3",
   "version": "3.6.0"
  }
 },
 "nbformat": 4,
 "nbformat_minor": 2
}
